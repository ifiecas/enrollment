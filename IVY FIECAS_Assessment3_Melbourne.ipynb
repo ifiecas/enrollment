{
 "cells": [
  {
   "cell_type": "markdown",
   "id": "0e6b7fec-c140-48d8-82e9-b4f2b346d9d2",
   "metadata": {},
   "source": [
    "# Victoria University (City Tower, Melbourne)\n",
    "# Assessment 3: Programming Solutions\n",
    "## BCO7006 Coding for Business Analytics\n",
    "### Submitted by IVY EUGENIO FIECAS\n",
    "### Student Number: s8105049\n",
    "### Submitted to: Dr. Omid Ameri Sianaki\n",
    "### August 28, 2024"
   ]
  },
  {
   "cell_type": "markdown",
   "id": "c21f8b1d-8ee3-4fa7-adf0-82dba7294558",
   "metadata": {},
   "source": [
    "<h1>Title: Development of University Enrollment Management System </h1>"
   ]
  },
  {
   "cell_type": "markdown",
   "id": "bebbdecd-5e2d-4748-be33-3e5061dc12af",
   "metadata": {},
   "source": [
    "## Overview"
   ]
  },
  {
   "cell_type": "markdown",
   "id": "9d46a724-1fbb-4a0c-81b2-0a235bf50ced",
   "metadata": {},
   "source": [
    "<b>Problem Statement:</b>\n",
    "<br>\n",
    "The current enrolment process at the university is time-consuming, inefficient, and does not effectively match students with appropriate courses. This results in lower satisfaction and retention rates among students, which can harm the university's reputation and financial stability.\n",
    "<br><br>\n",
    "<b>Solution:</b>\n",
    "<br>\n",
    "To address this problem, the university should implement an enrollment process Screening System (EPSS) that checks the course structure and students' enrolment background before enrolling them. This system can be achieved by leveraging programming algorithms that analyse student data to recommend courses that align with their interests and academic abilities.\n",
    "<br><br>\n",
    "<b>Benefits:</b>\n",
    "<ul>\n",
    "  <li>Improved Student Satisfaction: By enrolling students in courses that match their interests and abilities, they are more likely to be satisfied with their academic experience. This leads to higher retention rates and increased positive word-of- mouth marketing for the university.</li>\n",
    "  <li>Increased Efficiency: An automated Enrolment Process Screening System eliminates manual processing, reducing errors and saving time. This frees up staff to focus on other critical tasks, such as student support services and academic advising.</li>\n",
    "  <li>Better Resource Allocation: By matching students with appropriate courses, the university can better allocate resources, such as faculty, classrooms, and materials. This ensures that resources are used effectively, resulting in higher productivity and cost savings.</li>\n",
    "  <li>Enhanced Reputation: By offering an optimized enrolment process, the university can enhance its reputation as a student-focused institution that prioritizes academic success and satisfaction.</li>\n",
    "</ul>\n",
    "<br>\n",
    "<b>Implementation:</b>\n",
    "<br>\n",
    "To implement an enrolment process Screening System, the university should:\n",
    "<br>\n",
    "<ul>\n",
    "  <li>Gather Student Data: Collect and analyse student data, including academic records, student’s enrolment background, and learning preferences.</li>\n",
    "  <li>Develop Algorithms: Develop algorithms that analyze the student data to recommend appropriate courses.</li>\n",
    "  <li>Train Staff: Train staff on the use of the enrolment process Screening System and ensure that they can effectively support and advise students (we don’t check the staff training for this assignment).</li>\n",
    "  <li>Monitor and Improve: Continuously monitor and improve the system to ensure that it is meeting the needs of students and staff.</li>\n",
    "</ul>\n",
    "<br>\n",
    "<b>Conclusion:</b><br>\n",
    "Implementing an enrollment process Screening System that checks the course structure and students' enrolment background can lead to improved student satisfaction, increased efficiency, better resource allocation, and an enhanced reputation for the university. By investing in this system, the university can attract and retain more students, leading to greater financial stability and long-term success."
   ]
  },
  {
   "cell_type": "markdown",
   "id": "92b9af52-3d06-4e14-9a32-e5ae4c47c068",
   "metadata": {},
   "source": [
    "## Data Description"
   ]
  },
  {
   "cell_type": "markdown",
   "id": "7287bf1d-564c-4b0c-8b24-f4f9b8a5b1d6",
   "metadata": {},
   "source": [
    "<b>Synthetic Data Generation</b>\n",
    "<br>\n",
    "To simulate a realistic student dataset for analysis, a synthetic database was created. This dataset is designed to mimic typical student records, including key columns necessary for various academic and administrative analyses.\n",
    "<br><br>\n",
    "<b>Dataset Description</b><br>\n",
    "The synthetic student dataset includes the following key columns:\n",
    "<br>\n",
    "<br>Student ID (st_id): A unique identifier for each student.\n",
    "<br>Password (password): A randomly generated password for each student, included for simulation purposes but typically handled with encryption in real systems.\n",
    "<br>First Name (first_name): Randomly generated first names to represent the students.\n",
    "<br>Last Name (last_name): Randomly generated last names to accompany the first names.\n",
    "<br>Age (age): A random age distribution that reflects typical university students.\n",
    "<br>Gender (gender): Randomly assigned gender values based on a balanced distribution.\n",
    "<br>Nationality (nationality): A random selection from a predefined list of nationalities.\n",
    "<br>Enrollment History:\n",
    "<ul>\n",
    "  <li>Completed Units: List of academic units the student has completed.</li>\n",
    "  <li>Semester Taken: The specific semesters when each unit was completed.</li>\n",
    "  <li>Credits Earned: The number of credits earned for each completed unit.</li>\n",
    "</ul>\n",
    "<br>\n",
    "<b>Data Generation Process</b>\n",
    "<br>The synthetic data was generated using Python’s random and pandas libraries to ensure a realistic distribution of values.\n"
   ]
  },
  {
   "cell_type": "markdown",
   "id": "ddcaef01-0773-4fd1-a1b8-39e56b57ae34",
   "metadata": {},
   "source": [
    "### Dataset Github Repository Links"
   ]
  },
  {
   "cell_type": "markdown",
   "id": "b6b6336e-f577-4817-8327-fc3842880597",
   "metadata": {},
   "source": [
    "\n",
    "#### Student Dataset = \"https://github.com/ifiecas/student_data/blob/main/student_dataset16.csv\"\n",
    "#### Courseplan = \"https://github.com/ifiecas/courseplan/blob/main/bmbu-2024_ver7.csv\"\n",
    "#### Interests for the algorithm = \"https://github.com/ifiecas/interests/blob/main/All_Interests_and_Units3.csv\"\n",
    "#### Jupyter notebook for the dataset generation = \"https://github.com/ifiecas/data-set-notebook/blob/main/dataset.ipynb\""
   ]
  },
  {
   "cell_type": "code",
   "execution_count": 9,
   "id": "b5313591-76b9-4b21-b40f-826d7c43807d",
   "metadata": {},
   "outputs": [],
   "source": [
    "# PYTHON CODE STARTS HERE"
   ]
  },
  {
   "cell_type": "markdown",
   "id": "7b19b5da-8b92-460a-b7c3-eb1bff49ca3d",
   "metadata": {},
   "source": [
    "# 1. Importing Necessary Libraries & Loading the dataset"
   ]
  },
  {
   "cell_type": "code",
   "execution_count": 11,
   "id": "e079ec78-cb1e-4173-ad09-dae36bc55158",
   "metadata": {},
   "outputs": [
    {
     "name": "stdout",
     "output_type": "stream",
     "text": [
      "Student data loaded successfully.\n",
      "Course data loaded successfully.\n",
      "Interest units data loaded successfully.\n"
     ]
    }
   ],
   "source": [
    "import pandas as pd\n",
    "\n",
    "def load_data(file_path):\n",
    "    \"\"\"\n",
    "    Load data from a CSV file into a pandas DataFrame.\n",
    "    Args:\n",
    "    - file_path (str): The path to the CSV file.\n",
    "\n",
    "    Returns:\n",
    "    - pd.DataFrame: Loaded data as a DataFrame.\n",
    "    \"\"\"\n",
    "    try:\n",
    "        df = pd.read_csv(file_path)\n",
    "        return df\n",
    "    except Exception as e:\n",
    "        print(f\"Error loading {file_path}: {e}\")\n",
    "        return None\n",
    "\n",
    "# Define file paths\n",
    "student_file_path = 'https://raw.githubusercontent.com/ifiecas/student_data/main/student_dataset16.csv'\n",
    "course_file_path = 'https://raw.githubusercontent.com/ifiecas/courseplan/main/bmbu-2024_ver7.csv'\n",
    "interest_units_file_path = 'https://raw.githubusercontent.com/ifiecas/interests/main/All_Interests_and_Units3.csv'\n",
    "\n",
    "# Load data\n",
    "students_df = load_data(student_file_path)\n",
    "course_df = load_data(course_file_path)\n",
    "interest_units_df = load_data(interest_units_file_path)\n",
    "\n",
    "# Check if data is loaded successfully\n",
    "if students_df is not None:\n",
    "    print(\"Student data loaded successfully.\")\n",
    "if course_df is not None:\n",
    "    print(\"Course data loaded successfully.\")\n",
    "if interest_units_df is not None:\n",
    "    print(\"Interest units data loaded successfully.\")\n"
   ]
  },
  {
   "cell_type": "markdown",
   "id": "57217d34-3579-4469-9aa9-82a6906c9470",
   "metadata": {},
   "source": [
    "# 2. Function Definitions"
   ]
  },
  {
   "cell_type": "markdown",
   "id": "4d4ae89f-aba7-427d-a06c-63d44b3ceece",
   "metadata": {},
   "source": [
    "### 2.1. Student Login Function"
   ]
  },
  {
   "cell_type": "code",
   "execution_count": 14,
   "id": "0e9e1c2e-fc67-47bf-8daf-37b17e66cfa0",
   "metadata": {},
   "outputs": [],
   "source": [
    "def student_login(student_id, password, students_df):\n",
    "    # Standardize input\n",
    "    student_id = student_id.strip().lower()\n",
    "    password = password.strip()\n",
    "    \n",
    "    # Standardize DataFrame\n",
    "    students_df['st_id'] = students_df['st_id'].astype(str).str.strip().str.lower()\n",
    "    students_df['password'] = students_df['password'].astype(str).str.strip()\n",
    "    \n",
    "    # Check if credentials match\n",
    "    student_data = students_df[(students_df['st_id'] == student_id) & \n",
    "                               (students_df['password'] == password)]\n",
    "\n",
    "    \n",
    "    \n",
    "    if student_data.empty:\n",
    "        print(\"\\nInvalid student ID or password. Please try again.\")\n",
    "        print(\"-------------------------\")\n",
    "        \n",
    "        # Incorporate forgotten password logic here\n",
    "        forgot_password = input(\"Forgotten your password? (yes/no): \").strip().lower()\n",
    "        \n",
    "        if forgot_password == 'yes':\n",
    "            # Logic to handle forgotten password can be added here\n",
    "            print(\"Please follow the instructions to reset your password.\")\n",
    "            # Optionally, you could return a specific value or initiate a password reset process\n",
    "        \n",
    "        # Return None to indicate no valid student was found\n",
    "        return None\n",
    "    \n",
    "    # If student data is not empty, greet the student using their first name\n",
    "    first_name = student_data.iloc[0]['first_name']  # Access the first row correctly\n",
    "    print(f\"\\nWelcome, {first_name}!\")\n",
    "    print(\"-------------------------\")\n",
    "    \n",
    "    # Return the student's data (the first row of the DataFrame)\n",
    "    return student_data.iloc[0]\n"
   ]
  },
  {
   "cell_type": "markdown",
   "id": "9a33aba4-bea8-4e08-99cc-1f8c800f2d8c",
   "metadata": {},
   "source": [
    "### 2.2 Display Profile Function"
   ]
  },
  {
   "cell_type": "code",
   "execution_count": 16,
   "id": "bcf61c94-3a89-4e0c-b868-9363ed8f7ecf",
   "metadata": {},
   "outputs": [],
   "source": [
    "def display_profile(student_data):\n",
    "    print(\"\\n--- Student Profile ---\")\n",
    "    print(f\"First Name      : {student_data['first_name']}\")\n",
    "    print(f\"Last Name       : {student_data['last_name']}\")\n",
    "    print(f\"Student ID      : {student_data['st_id']}\")\n",
    "    print(f\"Gender          : {student_data['gender']}\")\n",
    "    print(f\"Age             : {student_data['age']}\")\n",
    "    print(f\"Nationality     : {student_data['nationality']}\")\n",
    "    print(\"-------------------------\")\n",
    "    \n",
    "    view_enrollment_history(student_data)\n"
   ]
  },
  {
   "cell_type": "markdown",
   "id": "1b312539-600b-4171-bd7d-4c90cc209481",
   "metadata": {},
   "source": [
    "### 2.3 View Enrollment History Function"
   ]
  },
  {
   "cell_type": "code",
   "execution_count": 18,
   "id": "22667699-224e-4121-832f-93051768b1b1",
   "metadata": {},
   "outputs": [],
   "source": [
    "def is_nan(value):\n",
    "    \"\"\"Helper function to check if a value is NaN.\"\"\"\n",
    "    return value is None or value != value  # NaN is not equal to itself\n",
    "\n",
    "def view_enrollment_history(student_data):\n",
    "    print(\"\\n--- Enrollment History ---\")\n",
    "\n",
    "    completed_units = []\n",
    "    \n",
    "    # Loop through potential completed units (assuming there can be up to 3)\n",
    "    for i in range(1, 4):\n",
    "        unit_prefix = f'CompletedUnit{i}'\n",
    "        \n",
    "        # Retrieve unit data\n",
    "        unit_code = student_data.get(f'{unit_prefix}_Code')\n",
    "        unit_title = student_data.get(f'{unit_prefix}_Title')\n",
    "        semester = student_data.get(f'{unit_prefix}_Semester')\n",
    "        credits = student_data.get(f'{unit_prefix}_Credits')\n",
    "        \n",
    "        # Check if any details are NaN or None, and skip this unit if so\n",
    "        if not is_nan(unit_code) and not is_nan(unit_title) and not is_nan(semester) and not is_nan(credits):\n",
    "            completed_units.append((unit_code, unit_title, semester, credits))\n",
    "    \n",
    "    # Display completed units\n",
    "    if completed_units:\n",
    "        print(\"Completed Units:\")\n",
    "        total_credits = sum(unit[3] for unit in completed_units)\n",
    "        for unit_code, unit_title, semester, credits in completed_units:\n",
    "            print(f\"- {unit_code}: {unit_title} (Semester: {semester}, Credits: {credits})\")\n",
    "        \n",
    "        # Display total credits earned\n",
    "        print(f\"\\nTotal Credits Earned: {total_credits}\")\n",
    "    else:\n",
    "        print(\"No completed units available.\")\n",
    "    \n",
    "    print(\"-------------------------\\n\")\n",
    "\n",
    "# Example usage with data including None values to simulate missing data\n",
    "student_data_example = {\n",
    "    'CompletedUnit1_Code': 'BEO6000',\n",
    "    'CompletedUnit1_Title': 'Data Analysis for Business',\n",
    "    'CompletedUnit1_Semester': 3,\n",
    "    'CompletedUnit1_Credits': 12,\n",
    "    'CompletedUnit2_Code': 'WOM1000',\n",
    "    'CompletedUnit2_Title': 'Women in STEM',\n",
    "    'CompletedUnit2_Semester': 3.0,\n",
    "    'CompletedUnit2_Credits': 12.0,\n",
    "    'CompletedUnit3_Code': None,  # Simulating a missing value\n",
    "    'CompletedUnit3_Title': None,\n",
    "    'CompletedUnit3_Semester': None,\n",
    "    'CompletedUnit3_Credits': None\n",
    "}\n",
    "\n"
   ]
  },
  {
   "cell_type": "markdown",
   "id": "e378c166-5095-4ab7-90bc-96ea1817f795",
   "metadata": {},
   "source": [
    "### 2.4 Check Eligibility Function"
   ]
  },
  {
   "cell_type": "code",
   "execution_count": 20,
   "id": "9fa88f39-5fa8-4c8f-812c-5a63b2d4bf47",
   "metadata": {},
   "outputs": [],
   "source": [
    "def check_eligibility(student_data, course_code, course_df):\n",
    "    course_data = course_df[course_df['UNIT_CODE'] == course_code]\n",
    "    \n",
    "    # Check if the course exists\n",
    "    if course_data.empty:\n",
    "        print(f\"Course {course_code} does not exist.\")\n",
    "        print(\"-------------------------\")\n",
    "        return False, f\"Course {course_code} does not exist.\"\n",
    "    \n",
    "    # Extract course information\n",
    "    unit_type = course_data['UNIT_TYPE'].values[0]\n",
    "    credit = course_data['CREDIT'].values[0]\n",
    "    unit_title = course_data['UNIT_TITLE'].values[0]\n",
    "    prereq_1 = course_data['PREREQUISITES_1'].values[0]\n",
    "    prereq_2 = course_data['PREREQUISITES_2'].values[0]\n",
    "    \n",
    "    # Gender-specific course check\n",
    "    if course_code == 'WOM1000' and student_data['gender'].lower() != 'female':\n",
    "        print(f\"Course {course_code} - {unit_title} is only available for female students.\")\n",
    "        print(\"-------------------------\")\n",
    "        return False, f\"Course {course_code} - {unit_title} is only available for female students.\"\n",
    "    \n",
    "    # Prerequisites check\n",
    "    all_prereqs = []\n",
    "    \n",
    "    if pd.notna(prereq_1) and prereq_1.strip():\n",
    "        all_prereqs.append(prereq_1.strip())\n",
    "    if pd.notna(prereq_2) and prereq_2.strip():\n",
    "        all_prereqs.append(prereq_2.strip())\n",
    "    \n",
    "    completed_courses = [student_data[f'CompletedUnit{i}_Code'] for i in range(1, 4)]\n",
    "    \n",
    "    # Determine eligibility\n",
    "    if all(prereq in completed_courses for prereq in all_prereqs):\n",
    "        print(f\"Eligible for {course_code} - {unit_title} ({unit_type}, {credit} credits).\")\n",
    "        print(\"-------------------------\")\n",
    "        return True, f\"Eligible for {course_code} - {unit_title} ({unit_type}, {credit} credits).\"\n",
    "    else:\n",
    "        print(f\"Not eligible for {course_code} - {unit_title} ({unit_type}, {credit} credits). Prerequisites not met.\")\n",
    "        print(\"-------------------------\")\n",
    "        return False, f\"Not eligible for {course_code} - {unit_title} ({unit_type}, {credit} credits). Prerequisites not met.\"\n"
   ]
  },
  {
   "cell_type": "markdown",
   "id": "a71683af-bf06-44c2-bfe9-b1a2bd4dad44",
   "metadata": {},
   "source": [
    "### 2.5 Enroll Student Function"
   ]
  },
  {
   "cell_type": "code",
   "execution_count": 22,
   "id": "2c40e440-61b3-4af5-b6f8-d1d9cd4920b5",
   "metadata": {},
   "outputs": [],
   "source": [
    "def enroll_student(student_data, course_df):\n",
    "    # Display available courses\n",
    "    print(\"\\n--- Available Courses for Enrollment ---\")\n",
    "    for idx, row in course_df.iterrows():\n",
    "        print(f\"{idx + 1}. {row['UNIT_CODE']} - {row['UNIT_TITLE']} ({row['UNIT_TYPE']}, Credits: {row['CREDIT']})\")\n",
    "    \n",
    "    try:\n",
    "        # Select courses to enroll in\n",
    "        choice1 = int(input(\"Enter the number corresponding to the first course you want to enroll in: \").strip())\n",
    "        if choice1 < 1 or choice1 > len(course_df):\n",
    "            print(\"\\nInvalid selection. Please try again.\")\n",
    "            return\n",
    "        \n",
    "        # Optional second course\n",
    "        choice2 = input(\"Enter the number corresponding to the second course you want to enroll in (if any, otherwise press Enter): \").strip()\n",
    "        course_codes = [course_df.iloc[choice1 - 1]['UNIT_CODE']]\n",
    "        \n",
    "        if choice2:\n",
    "            choice2 = int(choice2)\n",
    "            if choice2 < 1 or choice2 > len(course_df):\n",
    "                print(\"\\nInvalid selection. Please try again.\")\n",
    "                return\n",
    "            course_codes.append(course_df.iloc[choice2 - 1]['UNIT_CODE'])\n",
    "        \n",
    "        # Process enrollment\n",
    "        enrolled = enroll_student_process(student_data, course_codes, course_df)\n",
    "        return enrolled\n",
    "    \n",
    "    except ValueError:\n",
    "        print(\"\\nInvalid input. Please enter a valid number.\")\n",
    "        return True\n"
   ]
  },
  {
   "cell_type": "markdown",
   "id": "b92a7162-eb4c-4baa-8b57-3c1f22e1dfdc",
   "metadata": {},
   "source": [
    "### 2.6 Enroll Student Process Function"
   ]
  },
  {
   "cell_type": "code",
   "execution_count": 24,
   "id": "688ddcd5-2a96-4f3f-a4a7-b5fef36a1833",
   "metadata": {},
   "outputs": [],
   "source": [
    "def enroll_student_process(student_data, course_codes, course_df):\n",
    "    enrolled_courses = []\n",
    "    \n",
    "    for course_code in course_codes:\n",
    "        eligible, message = check_eligibility(student_data, course_code, course_df)\n",
    "        if eligible:\n",
    "            enrolled_courses.append(course_code)\n",
    "            print(f\"{message}\")\n",
    "        else:\n",
    "            print(message)\n",
    "    \n",
    "    if len(enrolled_courses) > 0:\n",
    "        print(\"\\nYou have successfully enrolled in the following unit(s):\")\n",
    "        for idx, course_code in enumerate(enrolled_courses, start=1):\n",
    "            course_data = course_df[course_df['UNIT_CODE'] == course_code]\n",
    "            unit_title = course_data['UNIT_TITLE'].values[0]\n",
    "            unit_type = course_data['UNIT_TYPE'].values[0]\n",
    "            credit = course_data['CREDIT'].values[0]\n",
    "            print(f\"  {idx}. {course_code} - {unit_title} ({unit_type}, {credit} credits)\")\n",
    "        \n",
    "        print(\"-------------------------\")\n",
    "        \n",
    "        # Prompt to return to the main menu\n",
    "        while True:\n",
    "            back_to_menu = input(\"\\nWould you like to go back to the main menu? (yes/no): \").strip().lower()\n",
    "            if back_to_menu in ['yes', 'no']:\n",
    "                break\n",
    "            else:\n",
    "                print(\"Invalid input. Please enter 'yes' or 'no'.\")\n",
    "        \n",
    "        return back_to_menu == 'yes'\n",
    "    else:\n",
    "        print(f\"Student {student_data['st_id']} is not eligible for any of the selected courses.\\n\")\n",
    "        print(\"-------------------------\")\n",
    "        return True\n"
   ]
  },
  {
   "cell_type": "markdown",
   "id": "86d3a64b-da1c-436b-b524-ca6680cb7c8b",
   "metadata": {},
   "source": [
    "### 2.7 Get Unit Recommendations Function"
   ]
  },
  {
   "cell_type": "code",
   "execution_count": 26,
   "id": "d5a344b8-4a99-4923-a4d9-747a635cfd56",
   "metadata": {
    "scrolled": true
   },
   "outputs": [],
   "source": [
    "def get_unit_recommendations(student_data, interest_units_df):\n",
    "    print(\"\\nNew Feature! Get Unit Recommendations\")\n",
    "    print(\"Please select two topics that interest you from the following options:\")\n",
    "    \n",
    "    interests = [\n",
    "        \"Data Science\", \"Business Intelligence\", \"Quantitative Analysis\", \"Financial Analysis\",\n",
    "        \"Programming (Python)\", \"Economic Theory\", \"Market Analysis\", \"Business Strategy\",\n",
    "        \"Customer Experience\", \"Machine Learning\", \"General Business Interest\", \"Leadership and Empowerment\"\n",
    "    ]\n",
    "    \n",
    "    for idx, interest in enumerate(interests, start=1):\n",
    "        print(f\"{idx}. {interest}\")\n",
    "    \n",
    "    try:\n",
    "        # Get the student's interest choices\n",
    "        choice1 = int(input(\"Enter the number of your first interest: \").strip())\n",
    "        choice2 = int(input(\"Enter the number of your second interest: \").strip())\n",
    "        \n",
    "        # Validate choices\n",
    "        if choice1 == choice2 or choice1 not in range(1, len(interests) + 1) or choice2 not in range(1, len(interests) + 1):\n",
    "            print(\"\\nInvalid choices. Please try again.\")\n",
    "            return\n",
    "        \n",
    "        # Map the selected interests to the corresponding topics\n",
    "        interest1 = interests[choice1 - 1]\n",
    "        interest2 = interests[choice2 - 1]\n",
    "        \n",
    "        # Filter and display recommended units\n",
    "        recommended_units = interest_units_df[\n",
    "            (interest_units_df['Interest'] == interest1) | \n",
    "            (interest_units_df['Interest'] == interest2)\n",
    "        ]\n",
    "        \n",
    "        if recommended_units.empty:\n",
    "            print(\"\\nNo units match your selected interests.\")\n",
    "        else:\n",
    "            print(\"\\nRecommended Units based on your interests:\")\n",
    "            for _, row in recommended_units.iterrows():\n",
    "                print(f\"- {row['Unit Code']} - {row['Unit Title']} ({row['Unit Type']}, Semester: {row['Semester Available']}, Credits: {row['Credits']})\")\n",
    "                if row['Unit Code'] == 'WOM1000':\n",
    "                    print(\"  Disclaimer: This unit is only available for female students.\")\n",
    "            \n",
    "            print(\"-------------------------\")\n",
    "        \n",
    "        # Prompt to return to the main menu\n",
    "        while True:\n",
    "            back_to_menu = input(\"\\nWould you like to go back to the main menu? (yes/no): \").strip().lower()\n",
    "            if back_to_menu in ['yes', 'no']:\n",
    "                break\n",
    "            else:\n",
    "                print(\"Invalid input. Please enter 'yes' or 'no'.\")\n",
    "        \n",
    "        return back_to_menu == 'yes'\n",
    "    \n",
    "    except ValueError:\n",
    "        print(\"\\nInvalid input. Please enter numbers corresponding to your choices.\")\n",
    "        return True\n"
   ]
  },
  {
   "cell_type": "markdown",
   "id": "928cdd11-d411-4e08-b0c4-d3eae8cc60ad",
   "metadata": {},
   "source": [
    "### 2.8 Provide Feedback Function"
   ]
  },
  {
   "cell_type": "code",
   "execution_count": 28,
   "id": "1a8587c0-594f-4250-9cbd-df12020e43bb",
   "metadata": {},
   "outputs": [],
   "source": [
    "class Feedback:\n",
    "    def __init__(self):\n",
    "        self.feedback = None\n",
    "        self.rating = None\n",
    "\n",
    "    def provide_feedback(self):\n",
    "        self.feedback = input(\"\\nPlease provide your feedback: \")\n",
    "        self.rate_experience()\n",
    "        self.thank_user()\n",
    "\n",
    "    def rate_experience(self):\n",
    "        while True:\n",
    "            try:\n",
    "                self.rating = int(input(\"Please rate your experience on a scale of 1 to 5: \"))\n",
    "                if 1 <= self.rating <= 5:\n",
    "                    break\n",
    "                else:\n",
    "                    print(\"Invalid input. Please enter a number between 1 and 5.\")\n",
    "            except ValueError:\n",
    "                print(\"Invalid input. Please enter a valid number between 1 and 5.\")\n",
    "\n",
    "    def thank_user(self):\n",
    "        print(\"\\nThank you for your feedback!\")\n",
    "        print(f\"Your rating: {self.rating}/5\")\n",
    "        print(\"-------------------------\\n\")\n",
    "\n",
    "# Function to collect feedback\n",
    "def provide_feedback():\n",
    "    # Instantiate the Feedback object\n",
    "    user_feedback = Feedback()\n",
    "    user_feedback.provide_feedback()\n",
    "\n"
   ]
  },
  {
   "cell_type": "markdown",
   "id": "b009369c-a8ac-4eac-ba69-fa6583687423",
   "metadata": {},
   "source": [
    "### 3. Main Function"
   ]
  },
  {
   "cell_type": "code",
   "execution_count": 30,
   "id": "84d30fef-c322-4a31-a48e-f166e93d531f",
   "metadata": {},
   "outputs": [],
   "source": [
    "def main():\n",
    "    student_id = input(\"Enter your student ID: \")\n",
    "    password = input(\"Enter your password: \")\n",
    "    \n",
    "    student_profile = student_login(student_id, password, students_df)\n",
    "    \n",
    "    if student_profile is not None:\n",
    "        while True:\n",
    "            # Display the main menu options\n",
    "            print(\"\\nWhat would you like to do?\")\n",
    "            print(\"1. View My Profile\")\n",
    "            print(\"2. View Enrollment History\")\n",
    "            print(\"3. New Feature! Get Unit Recommendations\")\n",
    "            print(\"4. Enroll in a Course\")\n",
    "            print(\"5. Provide Feedback\")\n",
    "            print(\"6. Logout\")\n",
    "            choice = input(\"Enter the number of your choice: \").strip()\n",
    "            \n",
    "            # Execute the corresponding function based on the user's choice\n",
    "            if choice == '1':\n",
    "                display_profile(student_profile)\n",
    "            elif choice == '2':\n",
    "                view_enrollment_history(student_profile)\n",
    "            elif choice == '3':\n",
    "                continue_menu = get_unit_recommendations(student_profile, interest_units_df)\n",
    "                if not continue_menu:\n",
    "                    break\n",
    "            elif choice == '4':\n",
    "                continue_menu = enroll_student(student_profile, course_df)\n",
    "                if not continue_menu:\n",
    "                    break\n",
    "            elif choice == '5':\n",
    "                provide_feedback()\n",
    "            elif choice == '6':\n",
    "                print(\"\\nLogging out...\\n\")\n",
    "                print(\"-------------------------\")\n",
    "                break\n",
    "            else:\n",
    "                print(\"\\nInvalid choice. Please try again.\")\n",
    "                print(\"-------------------------\")\n"
   ]
  },
  {
   "cell_type": "code",
   "execution_count": 31,
   "id": "107e521d-d31f-4ff1-ac17-637b2fc8b3d1",
   "metadata": {},
   "outputs": [],
   "source": [
    "### 4. Program Execution"
   ]
  },
  {
   "cell_type": "code",
   "execution_count": null,
   "id": "3210ef48-f0d8-4af7-b425-2a2093cb57a5",
   "metadata": {},
   "outputs": [],
   "source": [
    "# Ensure that all data is loaded before running main\n",
    "if __name__ == \"__main__\":\n",
    "    main()\n",
    "\n",
    "\n",
    "\n"
   ]
  },
  {
   "cell_type": "markdown",
   "id": "dd161f05-41e5-4aa5-b6a8-e7f09892606c",
   "metadata": {},
   "source": [
    "# Steps to test the enrollment system:\n",
    "## 1. Select Kernel > Restart Kernel and Run All Cells.\n",
    "## 2. Get a random student ID and password from GitHub repo link below:\n",
    "## https://github.com/ifiecas/student_data/blob/main/student_dataset16.csv\n",
    "## 3. Access and navigate the Main Menu.\n",
    "\n"
   ]
  },
  {
   "cell_type": "code",
   "execution_count": null,
   "id": "17ed00f2-ba8a-498e-9b8c-8373e324aa37",
   "metadata": {},
   "outputs": [],
   "source": []
  }
 ],
 "metadata": {
  "kernelspec": {
   "display_name": "Python 3 (ipykernel)",
   "language": "python",
   "name": "python3"
  },
  "language_info": {
   "codemirror_mode": {
    "name": "ipython",
    "version": 3
   },
   "file_extension": ".py",
   "mimetype": "text/x-python",
   "name": "python",
   "nbconvert_exporter": "python",
   "pygments_lexer": "ipython3",
   "version": "3.12.4"
  }
 },
 "nbformat": 4,
 "nbformat_minor": 5
}
